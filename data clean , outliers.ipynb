{
 "cells": [
  {
   "cell_type": "code",
   "execution_count": 9,
   "id": "62068d3d",
   "metadata": {},
   "outputs": [],
   "source": [
    "import pandas as pd\n",
    "import matplotlib.pyplot as plt"
   ]
  },
  {
   "cell_type": "code",
   "execution_count": 10,
   "id": "0a30648f",
   "metadata": {},
   "outputs": [],
   "source": [
    "df=pd.read_csv(\"C:/Users/lenovo/Downloads/ML/diabetes.csv\")"
   ]
  },
  {
   "cell_type": "code",
   "execution_count": 11,
   "id": "ee154608",
   "metadata": {},
   "outputs": [
    {
     "data": {
      "text/html": [
       "<div>\n",
       "<style scoped>\n",
       "    .dataframe tbody tr th:only-of-type {\n",
       "        vertical-align: middle;\n",
       "    }\n",
       "\n",
       "    .dataframe tbody tr th {\n",
       "        vertical-align: top;\n",
       "    }\n",
       "\n",
       "    .dataframe thead th {\n",
       "        text-align: right;\n",
       "    }\n",
       "</style>\n",
       "<table border=\"1\" class=\"dataframe\">\n",
       "  <thead>\n",
       "    <tr style=\"text-align: right;\">\n",
       "      <th></th>\n",
       "      <th>Pregnancies</th>\n",
       "      <th>Glucose</th>\n",
       "      <th>BloodPressure</th>\n",
       "      <th>SkinThickness</th>\n",
       "      <th>Insulin</th>\n",
       "      <th>BMI</th>\n",
       "      <th>DiabetesPedigreeFunction</th>\n",
       "      <th>Age</th>\n",
       "      <th>Outcome</th>\n",
       "    </tr>\n",
       "  </thead>\n",
       "  <tbody>\n",
       "    <tr>\n",
       "      <th>0</th>\n",
       "      <td>6</td>\n",
       "      <td>148</td>\n",
       "      <td>72</td>\n",
       "      <td>35</td>\n",
       "      <td>0</td>\n",
       "      <td>33.6</td>\n",
       "      <td>0.627</td>\n",
       "      <td>50</td>\n",
       "      <td>1</td>\n",
       "    </tr>\n",
       "    <tr>\n",
       "      <th>1</th>\n",
       "      <td>1</td>\n",
       "      <td>85</td>\n",
       "      <td>66</td>\n",
       "      <td>29</td>\n",
       "      <td>0</td>\n",
       "      <td>26.6</td>\n",
       "      <td>0.351</td>\n",
       "      <td>31</td>\n",
       "      <td>0</td>\n",
       "    </tr>\n",
       "    <tr>\n",
       "      <th>2</th>\n",
       "      <td>8</td>\n",
       "      <td>183</td>\n",
       "      <td>64</td>\n",
       "      <td>0</td>\n",
       "      <td>0</td>\n",
       "      <td>23.3</td>\n",
       "      <td>0.672</td>\n",
       "      <td>32</td>\n",
       "      <td>1</td>\n",
       "    </tr>\n",
       "    <tr>\n",
       "      <th>3</th>\n",
       "      <td>1</td>\n",
       "      <td>89</td>\n",
       "      <td>66</td>\n",
       "      <td>23</td>\n",
       "      <td>94</td>\n",
       "      <td>28.1</td>\n",
       "      <td>0.167</td>\n",
       "      <td>21</td>\n",
       "      <td>0</td>\n",
       "    </tr>\n",
       "    <tr>\n",
       "      <th>4</th>\n",
       "      <td>0</td>\n",
       "      <td>137</td>\n",
       "      <td>40</td>\n",
       "      <td>35</td>\n",
       "      <td>168</td>\n",
       "      <td>43.1</td>\n",
       "      <td>2.288</td>\n",
       "      <td>33</td>\n",
       "      <td>1</td>\n",
       "    </tr>\n",
       "  </tbody>\n",
       "</table>\n",
       "</div>"
      ],
      "text/plain": [
       "   Pregnancies  Glucose  BloodPressure  SkinThickness  Insulin   BMI  \\\n",
       "0            6      148             72             35        0  33.6   \n",
       "1            1       85             66             29        0  26.6   \n",
       "2            8      183             64              0        0  23.3   \n",
       "3            1       89             66             23       94  28.1   \n",
       "4            0      137             40             35      168  43.1   \n",
       "\n",
       "   DiabetesPedigreeFunction  Age  Outcome  \n",
       "0                     0.627   50        1  \n",
       "1                     0.351   31        0  \n",
       "2                     0.672   32        1  \n",
       "3                     0.167   21        0  \n",
       "4                     2.288   33        1  "
      ]
     },
     "execution_count": 11,
     "metadata": {},
     "output_type": "execute_result"
    }
   ],
   "source": [
    "df.head()"
   ]
  },
  {
   "cell_type": "code",
   "execution_count": 7,
   "id": "949c38f9",
   "metadata": {},
   "outputs": [
    {
     "data": {
      "text/plain": [
       "Pregnancies                 False\n",
       "Glucose                     False\n",
       "BloodPressure               False\n",
       "SkinThickness               False\n",
       "Insulin                     False\n",
       "BMI                         False\n",
       "DiabetesPedigreeFunction    False\n",
       "Age                         False\n",
       "Outcome                     False\n",
       "dtype: bool"
      ]
     },
     "execution_count": 7,
     "metadata": {},
     "output_type": "execute_result"
    }
   ],
   "source": [
    "df.isna().any()"
   ]
  },
  {
   "cell_type": "code",
   "execution_count": 8,
   "id": "e0ee6864",
   "metadata": {},
   "outputs": [
    {
     "name": "stdout",
     "output_type": "stream",
     "text": [
      "<class 'pandas.core.frame.DataFrame'>\n",
      "RangeIndex: 768 entries, 0 to 767\n",
      "Data columns (total 9 columns):\n",
      " #   Column                    Non-Null Count  Dtype  \n",
      "---  ------                    --------------  -----  \n",
      " 0   Pregnancies               768 non-null    int64  \n",
      " 1   Glucose                   768 non-null    int64  \n",
      " 2   BloodPressure             768 non-null    int64  \n",
      " 3   SkinThickness             768 non-null    int64  \n",
      " 4   Insulin                   768 non-null    int64  \n",
      " 5   BMI                       768 non-null    float64\n",
      " 6   DiabetesPedigreeFunction  768 non-null    float64\n",
      " 7   Age                       768 non-null    int64  \n",
      " 8   Outcome                   768 non-null    int64  \n",
      "dtypes: float64(2), int64(7)\n",
      "memory usage: 54.1 KB\n"
     ]
    }
   ],
   "source": [
    "df.info()"
   ]
  },
  {
   "cell_type": "code",
   "execution_count": 12,
   "id": "cb843707",
   "metadata": {},
   "outputs": [],
   "source": [
    "#outliers \n",
    "#define a function called \"plot_boxplot\"\n",
    "def plot_boxplot(df, ft):\n",
    "    df.boxplot(column=[ft])\n",
    "    plt.grid(false)\n",
    "    plt.show()"
   ]
  },
  {
   "cell_type": "code",
   "execution_count": 13,
   "id": "e9dec2eb",
   "metadata": {},
   "outputs": [
    {
     "data": {
      "image/png": "[encoded data removed]",
      "text/plain": [
       "<Figure size 432x288 with 1 Axes>"
      ]
     },
     "metadata": {
      "needs_background": "light"
     },
     "output_type": "display_data"
    }
   ],
   "source": [
    "plot_boxplot(df, \"Pregnancies\")"
   ]
  },
  {
   "cell_type": "code",
   "execution_count": 14,
   "id": "0240f73b",
   "metadata": {
    "scrolled": true
   },
   "outputs": [
    {
     "data": {
      "image/png": "[encoded data removed]",
      "text/plain": [
       "<Figure size 432x288 with 1 Axes>"
      ]
     },
     "metadata": {
      "needs_background": "light"
     },
     "output_type": "display_data"
    }
   ],
   "source": [
    "plot_boxplot(df, \"Glucose\")"
   ]
  },
  {
   "cell_type": "code",
   "execution_count": 15,
   "id": "2e81eb1f",
   "metadata": {},
   "outputs": [
    {
     "data": {
      "image/png": "[encoded data removed]",
      "text/plain": [
       "<Figure size 432x288 with 1 Axes>"
      ]
     },
     "metadata": {
      "needs_background": "light"
     },
     "output_type": "display_data"
    }
   ],
   "source": [
    "plot_boxplot(df, \"BloodPressure\")"
   ]
  },
  {
   "cell_type": "code",
   "execution_count": 16,
   "id": "c52e6cc5",
   "metadata": {},
   "outputs": [
    {
     "data": {
      "image/png": "[encoded data removed]",
      "text/plain": [
       "<Figure size 432x288 with 1 Axes>"
      ]
     },
     "metadata": {
      "needs_background": "light"
     },
     "output_type": "display_data"
    }
   ],
   "source": [
    "plot_boxplot(df, \"SkinThickness\")"
   ]
  },
  {
   "cell_type": "code",
   "execution_count": 17,
   "id": "2cf72691",
   "metadata": {},
   "outputs": [
    {
     "data": {
      "image/png": "[encoded data removed]",
      "text/plain": [
       "<Figure size 432x288 with 1 Axes>"
      ]
     },
     "metadata": {
      "needs_background": "light"
     },
     "output_type": "display_data"
    }
   ],
   "source": [
    "plot_boxplot(df, \"Insulin\")"
   ]
  },
  {
   "cell_type": "code",
   "execution_count": 18,
   "id": "080b363f",
   "metadata": {},
   "outputs": [
    {
     "data": {
      "image/png": "[encoded data removed]",
      "text/plain": [
       "<Figure size 432x288 with 1 Axes>"
      ]
     },
     "metadata": {
      "needs_background": "light"
     },
     "output_type": "display_data"
    }
   ],
   "source": [
    "plot_boxplot(df, \"BMI\")"
   ]
  },
  {
   "cell_type": "code",
   "execution_count": 19,
   "id": "a1645a67",
   "metadata": {},
   "outputs": [
    {
     "data": {
      "image/png": "[encoded data removed]",
      "text/plain": [
       "<Figure size 432x288 with 1 Axes>"
      ]
     },
     "metadata": {
      "needs_background": "light"
     },
     "output_type": "display_data"
    }
   ],
   "source": [
    "plot_boxplot(df, \"DiabetesPedigreeFunction\")"
   ]
  },
  {
   "cell_type": "code",
   "execution_count": null,
   "id": "9821af7f",
   "metadata": {},
   "outputs": [],
   "source": []
  },
  {
   "cell_type": "markdown",
   "id": "c1f12e59",
   "metadata": {},
   "source": [
    "# remove outliers"
   ]
  },
  {
   "cell_type": "code",
   "execution_count": 23,
   "id": "a8017470",
   "metadata": {},
   "outputs": [],
   "source": [
    "#define a function called \"outliers\" which returns a list of index of outliers\n",
    "\n",
    "# IQR= Q3-Q1\n",
    "# + OR - 1.5*IQR\n",
    "def outliers (df, ft):\n",
    "    Q1 = df[ft].quantile(0.25)\n",
    "    Q3 = df[ft].quantile(0.75)\n",
    "    IQR= Q3 - Q1\n",
    "    lower_bound = Q1 - 1.5 * IQR\n",
    "    upper_bound = Q1 + 1.5 * IQR\n",
    "    ls = df.index [(df[ft] < lower_bound) | (df[ft] > upper_bound)]\n",
    "    return ls"
   ]
  },
  {
   "cell_type": "code",
   "execution_count": 24,
   "id": "72ced590",
   "metadata": {},
   "outputs": [],
   "source": [
    "#Creat an empty list t store the output indices from multiple columns\n",
    "index_list=[]\n",
    "for data in ['Pregnancies','Glucose','BloodPressure','SkinThickness','Insulin','BMI','DiabetesPedigreeFunction','Age']:\n",
    "    index_list.extend(outliers(df, data))"
   ]
  },
  {
   "cell_type": "code",
   "execution_count": 25,
   "id": "dfa060ea",
   "metadata": {},
   "outputs": [
    {
     "data": {
      "text/plain": [
       "[7,\n",
       " 11,\n",
       " 12,\n",
       " 23,\n",
       " 24,\n",
       " 25,\n",
       " 28,\n",
       " 34,\n",
       " 36,\n",
       " 37,\n",
       " 43,\n",
       " 72,\n",
       " 86,\n",
       " 88,\n",
       " 131,\n",
       " 143,\n",
       " 146,\n",
       " 152,\n",
       " 159,\n",
       " 191,\n",
       " 193,\n",
       " 214,\n",
       " 215,\n",
       " 238,\n",
       " 245,\n",
       " 246,\n",
       " 248,\n",
       " 250,\n",
       " 254,\n",
       " 259,\n",
       " 270,\n",
       " 274,\n",
       " 281,\n",
       " 298,\n",
       " 306,\n",
       " 323,\n",
       " 327,\n",
       " 333,\n",
       " 338,\n",
       " 355,\n",
       " 357,\n",
       " 358,\n",
       " 375,\n",
       " 403,\n",
       " 436,\n",
       " 455,\n",
       " 458,\n",
       " 459,\n",
       " 460,\n",
       " 464,\n",
       " 505,\n",
       " 510,\n",
       " 512,\n",
       " 516,\n",
       " 518,\n",
       " 523,\n",
       " 542,\n",
       " 558,\n",
       " 559,\n",
       " 578,\n",
       " 582,\n",
       " 590,\n",
       " 614,\n",
       " 618,\n",
       " 634,\n",
       " 635,\n",
       " 648,\n",
       " 658,\n",
       " 660,\n",
       " 663,\n",
       " 667,\n",
       " 669,\n",
       " 672,\n",
       " 676,\n",
       " 691,\n",
       " 706,\n",
       " 708,\n",
       " 712,\n",
       " 717,\n",
       " 740,\n",
       " 743,\n",
       " 744,\n",
       " 745,\n",
       " 761,\n",
       " 762,\n",
       " 763,\n",
       " 2,\n",
       " 8,\n",
       " 11,\n",
       " 13,\n",
       " 14,\n",
       " 22,\n",
       " 40,\n",
       " 43,\n",
       " 45,\n",
       " 53,\n",
       " 56,\n",
       " 75,\n",
       " 100,\n",
       " 110,\n",
       " 120,\n",
       " 130,\n",
       " 132,\n",
       " 154,\n",
       " 159,\n",
       " 175,\n",
       " 182,\n",
       " 185,\n",
       " 186,\n",
       " 206,\n",
       " 207,\n",
       " 209,\n",
       " 212,\n",
       " 220,\n",
       " 227,\n",
       " 228,\n",
       " 235,\n",
       " 236,\n",
       " 237,\n",
       " 238,\n",
       " 245,\n",
       " 247,\n",
       " 258,\n",
       " 260,\n",
       " 283,\n",
       " 294,\n",
       " 300,\n",
       " 306,\n",
       " 317,\n",
       " 319,\n",
       " 327,\n",
       " 332,\n",
       " 335,\n",
       " 339,\n",
       " 342,\n",
       " 349,\n",
       " 355,\n",
       " 359,\n",
       " 360,\n",
       " 370,\n",
       " 391,\n",
       " 399,\n",
       " 404,\n",
       " 408,\n",
       " 409,\n",
       " 415,\n",
       " 425,\n",
       " 427,\n",
       " 440,\n",
       " 445,\n",
       " 455,\n",
       " 487,\n",
       " 489,\n",
       " 495,\n",
       " 498,\n",
       " 502,\n",
       " 506,\n",
       " 515,\n",
       " 545,\n",
       " 546,\n",
       " 548,\n",
       " 549,\n",
       " 561,\n",
       " 579,\n",
       " 588,\n",
       " 595,\n",
       " 598,\n",
       " 604,\n",
       " 606,\n",
       " 611,\n",
       " 612,\n",
       " 622,\n",
       " 646,\n",
       " 647,\n",
       " 660,\n",
       " 661,\n",
       " 662,\n",
       " 670,\n",
       " 675,\n",
       " 681,\n",
       " 696,\n",
       " 702,\n",
       " 708,\n",
       " 715,\n",
       " 716,\n",
       " 728,\n",
       " 732,\n",
       " 748,\n",
       " 749,\n",
       " 753,\n",
       " 759,\n",
       " 761,\n",
       " 7,\n",
       " 9,\n",
       " 10,\n",
       " 15,\n",
       " 18,\n",
       " 22,\n",
       " 24,\n",
       " 29,\n",
       " 33,\n",
       " 42,\n",
       " 43,\n",
       " 49,\n",
       " 53,\n",
       " 60,\n",
       " 67,\n",
       " 72,\n",
       " 78,\n",
       " 81,\n",
       " 84,\n",
       " 99,\n",
       " 102,\n",
       " 106,\n",
       " 115,\n",
       " 125,\n",
       " 160,\n",
       " 169,\n",
       " 172,\n",
       " 177,\n",
       " 187,\n",
       " 193,\n",
       " 207,\n",
       " 212,\n",
       " 221,\n",
       " 222,\n",
       " 237,\n",
       " 247,\n",
       " 261,\n",
       " 266,\n",
       " 269,\n",
       " 300,\n",
       " 303,\n",
       " 323,\n",
       " 332,\n",
       " 336,\n",
       " 347,\n",
       " 357,\n",
       " 362,\n",
       " 369,\n",
       " 379,\n",
       " 387,\n",
       " 410,\n",
       " 426,\n",
       " 428,\n",
       " 430,\n",
       " 435,\n",
       " 440,\n",
       " 453,\n",
       " 464,\n",
       " 468,\n",
       " 473,\n",
       " 484,\n",
       " 491,\n",
       " 494,\n",
       " 500,\n",
       " 506,\n",
       " 519,\n",
       " 522,\n",
       " 533,\n",
       " 535,\n",
       " 536,\n",
       " 539,\n",
       " 543,\n",
       " 545,\n",
       " 549,\n",
       " 571,\n",
       " 580,\n",
       " 589,\n",
       " 597,\n",
       " 601,\n",
       " 604,\n",
       " 616,\n",
       " 619,\n",
       " 622,\n",
       " 643,\n",
       " 658,\n",
       " 662,\n",
       " 672,\n",
       " 673,\n",
       " 691,\n",
       " 695,\n",
       " 697,\n",
       " 703,\n",
       " 706,\n",
       " 724,\n",
       " 743,\n",
       " 746,\n",
       " 756,\n",
       " 759,\n",
       " 57,\n",
       " 86,\n",
       " 99,\n",
       " 120,\n",
       " 150,\n",
       " 211,\n",
       " 273,\n",
       " 275,\n",
       " 409,\n",
       " 445,\n",
       " 532,\n",
       " 539,\n",
       " 579,\n",
       " 591,\n",
       " 693,\n",
       " 8,\n",
       " 13,\n",
       " 16,\n",
       " 20,\n",
       " 31,\n",
       " 35,\n",
       " 39,\n",
       " 43,\n",
       " 53,\n",
       " 54,\n",
       " 56,\n",
       " 73,\n",
       " 95,\n",
       " 99,\n",
       " 111,\n",
       " 132,\n",
       " 139,\n",
       " 144,\n",
       " 150,\n",
       " 153,\n",
       " 162,\n",
       " 186,\n",
       " 195,\n",
       " 199,\n",
       " 206,\n",
       " 215,\n",
       " 220,\n",
       " 228,\n",
       " 231,\n",
       " 236,\n",
       " 244,\n",
       " 247,\n",
       " 248,\n",
       " 254,\n",
       " 258,\n",
       " 279,\n",
       " 286,\n",
       " 287,\n",
       " 293,\n",
       " 296,\n",
       " 297,\n",
       " 309,\n",
       " 320,\n",
       " 335,\n",
       " 359,\n",
       " 360,\n",
       " 364,\n",
       " 370,\n",
       " 375,\n",
       " 388,\n",
       " 390,\n",
       " 392,\n",
       " 395,\n",
       " 409,\n",
       " 412,\n",
       " 415,\n",
       " 424,\n",
       " 425,\n",
       " 452,\n",
       " 458,\n",
       " 476,\n",
       " 480,\n",
       " 485,\n",
       " 486,\n",
       " 487,\n",
       " 499,\n",
       " 511,\n",
       " 519,\n",
       " 538,\n",
       " 540,\n",
       " 545,\n",
       " 546,\n",
       " 555,\n",
       " 561,\n",
       " 574,\n",
       " 584,\n",
       " 594,\n",
       " 606,\n",
       " 608,\n",
       " 611,\n",
       " 612,\n",
       " 645,\n",
       " 655,\n",
       " 657,\n",
       " 662,\n",
       " 673,\n",
       " 679,\n",
       " 685,\n",
       " 695,\n",
       " 700,\n",
       " 707,\n",
       " 710,\n",
       " 713,\n",
       " 715,\n",
       " 721,\n",
       " 748,\n",
       " 753,\n",
       " 4,\n",
       " 9,\n",
       " 16,\n",
       " 18,\n",
       " 43,\n",
       " 45,\n",
       " 49,\n",
       " 57,\n",
       " 59,\n",
       " 60,\n",
       " 67,\n",
       " 72,\n",
       " 78,\n",
       " 81,\n",
       " 84,\n",
       " 92,\n",
       " 99,\n",
       " 120,\n",
       " 125,\n",
       " 126,\n",
       " 145,\n",
       " 154,\n",
       " 155,\n",
       " 162,\n",
       " 173,\n",
       " 177,\n",
       " 178,\n",
       " 193,\n",
       " 211,\n",
       " 213,\n",
       " 215,\n",
       " 229,\n",
       " 230,\n",
       " 231,\n",
       " 235,\n",
       " 237,\n",
       " 247,\n",
       " 270,\n",
       " 287,\n",
       " 292,\n",
       " 303,\n",
       " 328,\n",
       " 332,\n",
       " 335,\n",
       " 350,\n",
       " 354,\n",
       " 371,\n",
       " 378,\n",
       " 379,\n",
       " 387,\n",
       " 391,\n",
       " 405,\n",
       " 409,\n",
       " 412,\n",
       " 420,\n",
       " 424,\n",
       " 426,\n",
       " 435,\n",
       " 445,\n",
       " 469,\n",
       " 470,\n",
       " 484,\n",
       " 485,\n",
       " 487,\n",
       " 494,\n",
       " 522,\n",
       " 531,\n",
       " 532,\n",
       " 546,\n",
       " 558,\n",
       " 561,\n",
       " 577,\n",
       " 580,\n",
       " 590,\n",
       " 596,\n",
       " 608,\n",
       " 623,\n",
       " 661,\n",
       " 673,\n",
       " 681,\n",
       " 682,\n",
       " 684,\n",
       " 689,\n",
       " 691,\n",
       " 699,\n",
       " 706,\n",
       " 732,\n",
       " 740,\n",
       " 746,\n",
       " 747,\n",
       " 753,\n",
       " 761,\n",
       " 4,\n",
       " 12,\n",
       " 31,\n",
       " 35,\n",
       " 39,\n",
       " 45,\n",
       " 57,\n",
       " 58,\n",
       " 66,\n",
       " 67,\n",
       " 70,\n",
       " 100,\n",
       " 104,\n",
       " 131,\n",
       " 147,\n",
       " 152,\n",
       " 157,\n",
       " 179,\n",
       " 187,\n",
       " 198,\n",
       " 200,\n",
       " 218,\n",
       " 220,\n",
       " 228,\n",
       " 238,\n",
       " 243,\n",
       " 245,\n",
       " 254,\n",
       " 259,\n",
       " 265,\n",
       " 266,\n",
       " 267,\n",
       " 270,\n",
       " 279,\n",
       " 292,\n",
       " 299,\n",
       " 300,\n",
       " 308,\n",
       " 309,\n",
       " 314,\n",
       " 330,\n",
       " 336,\n",
       " 338,\n",
       " 356,\n",
       " 359,\n",
       " 370,\n",
       " 371,\n",
       " 379,\n",
       " 380,\n",
       " 382,\n",
       " 383,\n",
       " 389,\n",
       " 395,\n",
       " 396,\n",
       " 408,\n",
       " 412,\n",
       " 416,\n",
       " 434,\n",
       " 443,\n",
       " 445,\n",
       " 453,\n",
       " 458,\n",
       " 464,\n",
       " 487,\n",
       " 493,\n",
       " 499,\n",
       " 508,\n",
       " 532,\n",
       " 534,\n",
       " 539,\n",
       " 542,\n",
       " 546,\n",
       " 574,\n",
       " 588,\n",
       " 590,\n",
       " 593,\n",
       " 606,\n",
       " 613,\n",
       " 618,\n",
       " 621,\n",
       " 622,\n",
       " 638,\n",
       " 657,\n",
       " 659,\n",
       " 661,\n",
       " 673,\n",
       " 688,\n",
       " 690,\n",
       " 692,\n",
       " 699,\n",
       " 702,\n",
       " 715,\n",
       " 716,\n",
       " 744,\n",
       " 747,\n",
       " 750,\n",
       " 755,\n",
       " 0,\n",
       " 8,\n",
       " 9,\n",
       " 12,\n",
       " 13,\n",
       " 14,\n",
       " 21,\n",
       " 24,\n",
       " 28,\n",
       " 30,\n",
       " 39,\n",
       " 43,\n",
       " 53,\n",
       " 67,\n",
       " 93,\n",
       " 115,\n",
       " 123,\n",
       " 129,\n",
       " 140,\n",
       " 148,\n",
       " 186,\n",
       " 204,\n",
       " 206,\n",
       " 207,\n",
       " 212,\n",
       " 221,\n",
       " 223,\n",
       " 236,\n",
       " 259,\n",
       " 263,\n",
       " 274,\n",
       " 278,\n",
       " 284,\n",
       " 285,\n",
       " 294,\n",
       " 299,\n",
       " 319,\n",
       " 344,\n",
       " 361,\n",
       " 362,\n",
       " 363,\n",
       " 375,\n",
       " 388,\n",
       " 401,\n",
       " 453,\n",
       " 456,\n",
       " 458,\n",
       " 459,\n",
       " 473,\n",
       " 475,\n",
       " 479,\n",
       " 487,\n",
       " 489,\n",
       " 495,\n",
       " 498,\n",
       " 509,\n",
       " 512,\n",
       " 516,\n",
       " 517,\n",
       " 519,\n",
       " 537,\n",
       " 542,\n",
       " 546,\n",
       " 548,\n",
       " 552,\n",
       " 557,\n",
       " 560,\n",
       " 579,\n",
       " 582,\n",
       " 584,\n",
       " 588,\n",
       " 603,\n",
       " 614,\n",
       " 618,\n",
       " 642,\n",
       " 658,\n",
       " 660,\n",
       " 666,\n",
       " 674,\n",
       " 676,\n",
       " 684,\n",
       " 702,\n",
       " 717,\n",
       " 719,\n",
       " 734,\n",
       " 749,\n",
       " 757,\n",
       " 759,\n",
       " 763]"
      ]
     },
     "execution_count": 25,
     "metadata": {},
     "output_type": "execute_result"
    }
   ],
   "source": [
    "index_list"
   ]
  },
  {
   "cell_type": "code",
   "execution_count": 26,
   "id": "cc8d4306",
   "metadata": {},
   "outputs": [],
   "source": [
    "#define a function called \"remove\" which returns a cleaned dataframe without outliers\n",
    "def remove (df, ls):\n",
    "    ls = sorted(set(ls))\n",
    "    df = df.drop(ls)\n",
    "    return df"
   ]
  },
  {
   "cell_type": "code",
   "execution_count": 27,
   "id": "408edf1f",
   "metadata": {},
   "outputs": [],
   "source": [
    "df_cleaned=remove(df, index_list)"
   ]
  },
  {
   "cell_type": "code",
   "execution_count": 29,
   "id": "1bc37011",
   "metadata": {},
   "outputs": [
    {
     "data": {
      "text/plain": [
       "(768, 9)"
      ]
     },
     "execution_count": 29,
     "metadata": {},
     "output_type": "execute_result"
    }
   ],
   "source": [
    "df.shape"
   ]
  },
  {
   "cell_type": "code",
   "execution_count": 30,
   "id": "3a5d67de",
   "metadata": {},
   "outputs": [
    {
     "data": {
      "image/png": "[encoded data removed]",
      "text/plain": [
       "<Figure size 432x288 with 1 Axes>"
      ]
     },
     "metadata": {
      "needs_background": "light"
     },
     "output_type": "display_data"
    }
   ],
   "source": [
    "plot_boxplot(df_cleaned,'DiabetesPedigreeFunction' )"
   ]
  },
  {
   "cell_type": "code",
   "execution_count": 32,
   "id": "1a1073bd",
   "metadata": {},
   "outputs": [
    {
     "data": {
      "image/png": "[encoded data removed]",
      "text/plain": [
       "<Figure size 432x288 with 1 Axes>"
      ]
     },
     "metadata": {
      "needs_background": "light"
     },
     "output_type": "display_data"
    }
   ],
   "source": [
    "plot_boxplot(df_cleaned,'Insulin' )"
   ]
  },
  {
   "cell_type": "code",
   "execution_count": 33,
   "id": "3b2a2fc9",
   "metadata": {},
   "outputs": [
    {
     "data": {
      "image/png": "[encoded data removed]",
      "text/plain": [
       "<Figure size 432x288 with 1 Axes>"
      ]
     },
     "metadata": {
      "needs_background": "light"
     },
     "output_type": "display_data"
    }
   ],
   "source": [
    "plot_boxplot(df_cleaned,'BMI')"
   ]
  },
  {
   "cell_type": "code",
   "execution_count": 34,
   "id": "5e7a0a0a",
   "metadata": {},
   "outputs": [
    {
     "data": {
      "image/png": "[encoded data removed]",
      "text/plain": [
       "<Figure size 432x288 with 1 Axes>"
      ]
     },
     "metadata": {
      "needs_background": "light"
     },
     "output_type": "display_data"
    }
   ],
   "source": [
    "plot_boxplot(df_cleaned,'Pregnancies')"
   ]
  },
  {
   "cell_type": "code",
   "execution_count": 35,
   "id": "44a22911",
   "metadata": {},
   "outputs": [
    {
     "data": {
      "image/png": "[encoded data removed]",
      "text/plain": [
       "<Figure size 432x288 with 1 Axes>"
      ]
     },
     "metadata": {
      "needs_background": "light"
     },
     "output_type": "display_data"
    }
   ],
   "source": [
    "plot_boxplot(df_cleaned,'')"
   ]
  },
  {
   "cell_type": "code",
   "execution_count": 36,
   "id": "42d133c7",
   "metadata": {},
   "outputs": [
    {
     "data": {
      "image/png": "[encoded data removed]",
      "text/plain": [
       "<Figure size 432x288 with 1 Axes>"
      ]
     },
     "metadata": {
      "needs_background": "light"
     },
     "output_type": "display_data"
    }
   ],
   "source": [
    "plot_boxplot(df_cleaned,'BloodPressure')"
   ]
  },
  {
   "cell_type": "code",
   "execution_count": 37,
   "id": "0c6810f7",
   "metadata": {},
   "outputs": [],
   "source": [
    "df_cleaned.to_csv('diabetes_cleaned.csv', index=False)"
   ]
  },
  {
   "cell_type": "code",
   "execution_count": null,
   "id": "bf64c155",
   "metadata": {},
   "outputs": [],
   "source": []
  },
  {
   "cell_type": "code",
   "execution_count": null,
   "id": "9cfda9c9",
   "metadata": {},
   "outputs": [],
   "source": []
  }
 ],
 "metadata": {
  "kernelspec": {
   "display_name": "Python 3 (ipykernel)",
   "language": "python",
   "name": "python3"
  },
  "language_info": {
   "codemirror_mode": {
    "name": "ipython",
    "version": 3
   },
   "file_extension": ".py",
   "mimetype": "text/x-python",
   "name": "python",
   "nbconvert_exporter": "python",
   "pygments_lexer": "ipython3",
   "version": "3.9.12"
  }
 },
 "nbformat": 4,
 "nbformat_minor": 5
}
